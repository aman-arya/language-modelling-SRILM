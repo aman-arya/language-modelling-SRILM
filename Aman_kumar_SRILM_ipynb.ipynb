{
 "cells": [
  {
   "cell_type": "markdown",
   "metadata": {
    "id": "ALgpQ6Luo3Mu"
   },
   "source": [
    "# Language modelling using SRILM\n",
    "\n",
    "## Aman kumar 17025\n",
    "\n",
    "# toy dataset\n",
    "\n",
    "#Using a bigram language model based on the training data, estimate probability of below sentences\n",
    "\n",
    "(a) S: **Sam I do I like** (b) S: **Sam I am**"
   ]
  },
  {
   "cell_type": "code",
   "execution_count": null,
   "metadata": {
    "colab": {
     "base_uri": "https://localhost:8080/",
     "height": 101
    },
    "id": "EiQ3e_blSgbg",
    "outputId": "3d740cba-bd54-4b29-aa0b-4d3fd81dc0eb"
   },
   "outputs": [
    {
     "name": "stdout",
     "output_type": "stream",
     "text": [
      "I am Sam\r\n",
      "Sam I am\r\n",
      "Sam I like\r\n",
      "Sam I do like\r\n",
      "do I like Sam"
     ]
    }
   ],
   "source": [
    "#printing training file\n",
    "!cat sample-data/sample-train.txt"
   ]
  },
  {
   "cell_type": "code",
   "execution_count": null,
   "metadata": {
    "colab": {
     "base_uri": "https://localhost:8080/",
     "height": 50
    },
    "id": "DODgyWxCTFGI",
    "outputId": "22ded537-da77-4aab-f61d-8a968713bc73"
   },
   "outputs": [
    {
     "name": "stdout",
     "output_type": "stream",
     "text": [
      "Sam I do I like\r\n",
      "Sam I am"
     ]
    }
   ],
   "source": [
    "#printing test file 1\n",
    "!cat sample-data/test-q1.txt"
   ]
  },
  {
   "cell_type": "code",
   "execution_count": null,
   "metadata": {
    "colab": {
     "base_uri": "https://localhost:8080/",
     "height": 34
    },
    "id": "x-LkCQtfqLKk",
    "outputId": "ce99bee1-b4c8-4754-caeb-6b590b198c91"
   },
   "outputs": [
    {
     "name": "stdout",
     "output_type": "stream",
     "text": [
      "Sam I do like linguistics"
     ]
    }
   ],
   "source": [
    "#printing test file 2\n",
    "!cat sample-data/test-q5.txt"
   ]
  },
  {
   "cell_type": "code",
   "execution_count": null,
   "metadata": {
    "id": "90iT-98_v0T8"
   },
   "outputs": [],
   "source": [
    "# for permission for binary files\n",
    "!chmod +x ngram"
   ]
  },
  {
   "cell_type": "code",
   "execution_count": null,
   "metadata": {
    "id": "p_7X-iYxwBb5"
   },
   "outputs": [],
   "source": [
    "!chmod +x ngram-count"
   ]
  },
  {
   "cell_type": "code",
   "execution_count": null,
   "metadata": {
    "id": "Xg9qnBxGqMRu"
   },
   "outputs": [],
   "source": [
    "#Training a bigram language model using training data\n",
    "\n",
    "!./ngram-count -text sample-data/sample-train.txt -order 2 -write sample-data/files/sample-train-bigram.count \\\n",
    "-lm sample-data/files/sample-train-bigram.lm -addsmooth 0"
   ]
  },
  {
   "cell_type": "code",
   "execution_count": null,
   "metadata": {
    "colab": {
     "base_uri": "https://localhost:8080/",
     "height": 370
    },
    "id": "ZKW76Bqvva9i",
    "outputId": "d937063d-9ab5-403b-cf9c-6b5f44bf0c7e"
   },
   "outputs": [
    {
     "name": "stdout",
     "output_type": "stream",
     "text": [
      "<s>\t5\n",
      "<s> I\t1\n",
      "<s> Sam\t3\n",
      "<s> do\t1\n",
      "I\t5\n",
      "I am\t2\n",
      "I like\t2\n",
      "I do\t1\n",
      "am\t2\n",
      "am Sam\t1\n",
      "am </s>\t1\n",
      "Sam\t5\n",
      "Sam </s>\t2\n",
      "Sam I\t3\n",
      "</s>\t5\n",
      "like\t3\n",
      "like </s>\t2\n",
      "like Sam\t1\n",
      "do\t2\n",
      "do like\t1\n",
      "do I\t1\n"
     ]
    }
   ],
   "source": [
    "!cat sample-data/files/sample-train-bigram.count"
   ]
  },
  {
   "cell_type": "code",
   "execution_count": null,
   "metadata": {
    "colab": {
     "base_uri": "https://localhost:8080/",
     "height": 538
    },
    "id": "UtHIMXQdvfqg",
    "outputId": "8ef0f382-c428-46fd-a871-a8e464b7286e"
   },
   "outputs": [
    {
     "name": "stdout",
     "output_type": "stream",
     "text": [
      "\n",
      "\\data\\\n",
      "ngram 1=7\n",
      "ngram 2=14\n",
      "\n",
      "\\1-grams:\n",
      "-0.6434527\t</s>\n",
      "-99\t<s>\t-7.292433\n",
      "-0.6434527\tI\t-7.866736\n",
      "-0.6434527\tSam\t-7.737127\n",
      "-1.041393\tam\t-7.21857\n",
      "-1.041393\tdo\t-7.285517\n",
      "-0.8653014\tlike\t-99\n",
      "\n",
      "\\2-grams:\n",
      "-0.69897\t<s> I\n",
      "-0.2218488\t<s> Sam\n",
      "-0.69897\t<s> do\n",
      "-0.39794\tI am\n",
      "-0.69897\tI do\n",
      "-0.39794\tI like\n",
      "-0.39794\tSam </s>\n",
      "-0.2218488\tSam I\n",
      "-0.30103\tam </s>\n",
      "-0.30103\tam Sam\n",
      "-0.30103\tdo I\n",
      "-0.30103\tdo like\n",
      "-0.1760913\tlike </s>\n",
      "-0.4771213\tlike Sam\n",
      "\n",
      "\\end\\\n"
     ]
    }
   ],
   "source": [
    "!cat sample-data/files/sample-train-bigram.lm"
   ]
  },
  {
   "cell_type": "code",
   "execution_count": null,
   "metadata": {
    "colab": {
     "base_uri": "https://localhost:8080/",
     "height": 386
    },
    "id": "oQFS1iEBqtB6",
    "outputId": "7d318e8d-1a85-4c93-83da-fd137e8c76f3"
   },
   "outputs": [
    {
     "name": "stdout",
     "output_type": "stream",
     "text": [
      "reading 7 1-grams\n",
      "reading 14 2-grams\n",
      "Sam I do I like\n",
      "\tp( Sam | <s> ) \t= [2gram] 0.6 [ -0.221849 ]\n",
      "\tp( I | Sam ...) \t= [2gram] 0.6 [ -0.221849 ]\n",
      "\tp( do | I ...) \t= [2gram] 0.2 [ -0.69897 ]\n",
      "\tp( I | do ...) \t= [2gram] 0.5 [ -0.30103 ]\n",
      "\tp( like | I ...) \t= [2gram] 0.4 [ -0.39794 ]\n",
      "\tp( </s> | like ...) \t= [2gram] 0.666667 [ -0.176091 ]\n",
      "1 sentences, 5 words, 0 OOVs\n",
      "0 zeroprobs, logprob= -2.01773 ppl= 2.16914 ppl1= 2.53248\n",
      "\n",
      "Sam I am\n",
      "\tp( Sam | <s> ) \t= [2gram] 0.6 [ -0.221849 ]\n",
      "\tp( I | Sam ...) \t= [2gram] 0.6 [ -0.221849 ]\n",
      "\tp( am | I ...) \t= [2gram] 0.4 [ -0.39794 ]\n",
      "\tp( </s> | am ...) \t= [2gram] 0.5 [ -0.30103 ]\n",
      "1 sentences, 3 words, 0 OOVs\n",
      "0 zeroprobs, logprob= -1.14267 ppl= 1.93049 ppl1= 2.40375\n",
      "\n",
      "file sample-data/test-q1.txt: 2 sentences, 8 words, 0 OOVs\n",
      "0 zeroprobs, logprob= -3.1604 ppl= 2.07033 ppl1= 2.48342\n"
     ]
    }
   ],
   "source": [
    "#Testing the above bigram language model\n",
    "\n",
    "!./ngram -lm sample-data/files/sample-train-bigram.lm -ppl sample-data/test-q1.txt -debug 2"
   ]
  },
  {
   "cell_type": "markdown",
   "metadata": {
    "id": "uVzZ8Nokw8Fh"
   },
   "source": [
    "# Using a unigram language model based on the training data, estimate probability of below sentences\n",
    "\n",
    "(a) S: **Sam I do I like** (b) S: **Sam I am**"
   ]
  },
  {
   "cell_type": "code",
   "execution_count": null,
   "metadata": {
    "id": "3QGW-OhsvqvP"
   },
   "outputs": [],
   "source": [
    "!./ngram-count -text sample-data/sample-train.txt -order 1 -write sample-data/files/sample-train-unigram.count \\\n",
    "-lm sample-data/files/sample-train-unigram.lm -addsmooth 0"
   ]
  },
  {
   "cell_type": "code",
   "execution_count": null,
   "metadata": {
    "colab": {
     "base_uri": "https://localhost:8080/",
     "height": 134
    },
    "id": "oGvSwPPIxPmR",
    "outputId": "637ea138-312d-4010-ce4c-e4deadb873bd"
   },
   "outputs": [
    {
     "name": "stdout",
     "output_type": "stream",
     "text": [
      "<s>\t5\n",
      "I\t5\n",
      "am\t2\n",
      "Sam\t5\n",
      "</s>\t5\n",
      "like\t3\n",
      "do\t2\n"
     ]
    }
   ],
   "source": [
    "!cat sample-data/files/sample-train-unigram.count"
   ]
  },
  {
   "cell_type": "code",
   "execution_count": null,
   "metadata": {
    "colab": {
     "base_uri": "https://localhost:8080/",
     "height": 252
    },
    "id": "3dnFIL2hxQAl",
    "outputId": "e25266d7-dd20-4d2f-a0fd-c4a71ccc44db"
   },
   "outputs": [
    {
     "name": "stdout",
     "output_type": "stream",
     "text": [
      "\n",
      "\\data\\\n",
      "ngram 1=7\n",
      "\n",
      "\\1-grams:\n",
      "-0.6434527\t</s>\n",
      "-99\t<s>\n",
      "-0.6434527\tI\n",
      "-0.6434527\tSam\n",
      "-1.041393\tam\n",
      "-1.041393\tdo\n",
      "-0.8653014\tlike\n",
      "\n",
      "\\end\\\n"
     ]
    }
   ],
   "source": [
    "!cat sample-data/files/sample-train-unigram.lm"
   ]
  },
  {
   "cell_type": "code",
   "execution_count": null,
   "metadata": {
    "colab": {
     "base_uri": "https://localhost:8080/",
     "height": 370
    },
    "id": "ZHE5j9FJxSI1",
    "outputId": "e121c9dc-5cc0-47f4-baac-8d5b0fdef4af"
   },
   "outputs": [
    {
     "name": "stdout",
     "output_type": "stream",
     "text": [
      "reading 7 1-grams\n",
      "Sam I do I like\n",
      "\tp( Sam | <s> ) \t= [1gram] 0.227273 [ -0.643453 ]\n",
      "\tp( I | Sam ...) \t= [1gram] 0.227273 [ -0.643453 ]\n",
      "\tp( do | I ...) \t= [1gram] 0.090909 [ -1.04139 ]\n",
      "\tp( I | do ...) \t= [1gram] 0.227273 [ -0.643453 ]\n",
      "\tp( like | I ...) \t= [1gram] 0.136364 [ -0.865301 ]\n",
      "\tp( </s> | like ...) \t= [1gram] 0.227273 [ -0.643453 ]\n",
      "1 sentences, 5 words, 0 OOVs\n",
      "0 zeroprobs, logprob= -4.48051 ppl= 5.5815 ppl1= 7.87229\n",
      "\n",
      "Sam I am\n",
      "\tp( Sam | <s> ) \t= [1gram] 0.227273 [ -0.643453 ]\n",
      "\tp( I | Sam ...) \t= [1gram] 0.227273 [ -0.643453 ]\n",
      "\tp( am | I ...) \t= [1gram] 0.090909 [ -1.04139 ]\n",
      "\tp( </s> | am ...) \t= [1gram] 0.227273 [ -0.643453 ]\n",
      "1 sentences, 3 words, 0 OOVs\n",
      "0 zeroprobs, logprob= -2.97175 ppl= 5.53271 ppl1= 9.78552\n",
      "\n",
      "file sample-data/test-q1.txt: 2 sentences, 8 words, 0 OOVs\n",
      "0 zeroprobs, logprob= -7.45226 ppl= 5.56193 ppl1= 8.54146\n"
     ]
    }
   ],
   "source": [
    "#Testing the unigram language model\n",
    "!./ngram -lm sample-data/files/sample-train-unigram.lm -ppl sample-data/test-q1.txt -debug 2"
   ]
  },
  {
   "cell_type": "markdown",
   "metadata": {
    "id": "e1-yB0CdxtCg"
   },
   "source": [
    "# Now use a unigram/bigram LM with above training data and estimate per word probability of the sentence below:\n",
    "\n",
    "S: **Sam I do like linguistics**"
   ]
  },
  {
   "cell_type": "code",
   "execution_count": null,
   "metadata": {
    "colab": {
     "base_uri": "https://localhost:8080/",
     "height": 101
    },
    "id": "YtHpLxP0xVgQ",
    "outputId": "8a92fd70-124c-4dd6-f7fc-75ff833ca8cd"
   },
   "outputs": [
    {
     "name": "stdout",
     "output_type": "stream",
     "text": [
      "I am Sam\r\n",
      "Sam I am\r\n",
      "Sam I like\r\n",
      "Sam I do like\r\n",
      "do I like Sam"
     ]
    }
   ],
   "source": [
    "!cat sample-data/sample-train.txt"
   ]
  },
  {
   "cell_type": "code",
   "execution_count": null,
   "metadata": {
    "colab": {
     "base_uri": "https://localhost:8080/",
     "height": 34
    },
    "id": "Hvqp365EyFYa",
    "outputId": "b1f56175-ebaf-4748-d52c-9a664fe878ba"
   },
   "outputs": [
    {
     "name": "stdout",
     "output_type": "stream",
     "text": [
      "Sam I do like linguistics"
     ]
    }
   ],
   "source": [
    "!cat sample-data/test-q5.txt"
   ]
  },
  {
   "cell_type": "code",
   "execution_count": null,
   "metadata": {
    "colab": {
     "base_uri": "https://localhost:8080/",
     "height": 252
    },
    "id": "HSbJURsTyITq",
    "outputId": "06c4c9ee-eb28-48a4-9581-e7d40bac9605"
   },
   "outputs": [
    {
     "name": "stdout",
     "output_type": "stream",
     "text": [
      "reading 7 1-grams\n",
      "reading 14 2-grams\n",
      "Sam I do like linguistics\n",
      "\tp( Sam | <s> ) \t= [2gram] 0.6 [ -0.221849 ]\n",
      "\tp( I | Sam ...) \t= [2gram] 0.6 [ -0.221849 ]\n",
      "\tp( do | I ...) \t= [2gram] 0.2 [ -0.69897 ]\n",
      "\tp( like | do ...) \t= [2gram] 0.5 [ -0.30103 ]\n",
      "\tp( <unk> | like ...) \t= [OOV] 0 [ -inf ]\n",
      "\tp( </s> | <unk> ...) \t= [1gram] 0.227273 [ -0.643453 ]\n",
      "1 sentences, 5 words, 1 OOVs\n",
      "0 zeroprobs, logprob= -2.08715 ppl= 2.61475 ppl1= 3.32497\n",
      "\n",
      "file sample-data/test-q5.txt: 1 sentences, 5 words, 1 OOVs\n",
      "0 zeroprobs, logprob= -2.08715 ppl= 2.61475 ppl1= 3.32497\n"
     ]
    }
   ],
   "source": [
    "#Testing the above bigram language model\n",
    "\n",
    "!./ngram -lm sample-data/files/sample-train-bigram.lm -ppl sample-data/test-q5.txt -debug 2"
   ]
  },
  {
   "cell_type": "code",
   "execution_count": null,
   "metadata": {
    "colab": {
     "base_uri": "https://localhost:8080/",
     "height": 235
    },
    "id": "-VlFfhAXyOEt",
    "outputId": "8ff62992-d576-45d8-86d9-1ec7453f4ae1"
   },
   "outputs": [
    {
     "name": "stdout",
     "output_type": "stream",
     "text": [
      "reading 7 1-grams\n",
      "Sam I do like linguistics\n",
      "\tp( Sam | <s> ) \t= [1gram] 0.227273 [ -0.643453 ]\n",
      "\tp( I | Sam ...) \t= [1gram] 0.227273 [ -0.643453 ]\n",
      "\tp( do | I ...) \t= [1gram] 0.090909 [ -1.04139 ]\n",
      "\tp( like | do ...) \t= [1gram] 0.136364 [ -0.865301 ]\n",
      "\tp( <unk> | like ...) \t= [OOV] 0 [ -inf ]\n",
      "\tp( </s> | <unk> ...) \t= [1gram] 0.227273 [ -0.643453 ]\n",
      "1 sentences, 5 words, 1 OOVs\n",
      "0 zeroprobs, logprob= -3.83705 ppl= 5.85343 ppl1= 9.10465\n",
      "\n",
      "file sample-data/test-q5.txt: 1 sentences, 5 words, 1 OOVs\n",
      "0 zeroprobs, logprob= -3.83705 ppl= 5.85343 ppl1= 9.10465\n"
     ]
    }
   ],
   "source": [
    "#Testing the above unigram language model\n",
    "\n",
    "!./ngram -lm sample-data/files/sample-train-unigram.lm -ppl sample-data/test-q5.txt -debug 2"
   ]
  },
  {
   "cell_type": "markdown",
   "metadata": {
    "id": "3LJjwg0bz1R4"
   },
   "source": [
    "# Applying Laplace Smoothing to rescue"
   ]
  },
  {
   "cell_type": "markdown",
   "metadata": {
    "id": "rSUvxZSy0ZZC"
   },
   "source": [
    "# \n",
    "*   unigram\n",
    "\n"
   ]
  },
  {
   "cell_type": "code",
   "execution_count": null,
   "metadata": {
    "colab": {
     "base_uri": "https://localhost:8080/",
     "height": 252
    },
    "id": "9K2rgk_HyTtX",
    "outputId": "99871cd4-5518-41a9-c2f3-b9bd88ab3ea0"
   },
   "outputs": [
    {
     "name": "stdout",
     "output_type": "stream",
     "text": [
      "reading 8 1-grams\n",
      "sample-data/files/sample-train-unigram-smoothed.lm: line 8: warning: non-zero probability for <unk> in closed-vocabulary LM\n",
      "Sam I do like linguistics\n",
      "\tp( Sam | <s> ) \t= [1gram] 0.206897 [ -0.684247 ]\n",
      "\tp( I | Sam ...) \t= [1gram] 0.206897 [ -0.684247 ]\n",
      "\tp( do | I ...) \t= [1gram] 0.103448 [ -0.985277 ]\n",
      "\tp( like | do ...) \t= [1gram] 0.137931 [ -0.860338 ]\n",
      "\tp( <unk> | like ...) \t= [1gram] 0.0344828 [ -1.4624 ]\n",
      "\tp( </s> | <unk> ...) \t= [1gram] 0.206897 [ -0.684247 ]\n",
      "1 sentences, 5 words, 0 OOVs\n",
      "0 zeroprobs, logprob= -5.36075 ppl= 7.82454 ppl1= 11.8073\n",
      "\n",
      "file sample-data/test-q5.txt: 1 sentences, 5 words, 0 OOVs\n",
      "0 zeroprobs, logprob= -5.36075 ppl= 7.82454 ppl1= 11.8073\n"
     ]
    }
   ],
   "source": [
    "#Training a laplace smoothed unigram language model using training data\n",
    "\n",
    "!./ngram-count -text sample-data/sample-train.txt -order 1 -write sample-data/files/sample-train-unigram-smoothed.count \\\n",
    "-lm sample-data/files/sample-train-unigram-smoothed.lm -addsmooth 1 -unk\n",
    "\n",
    "#Testing the above unigram language model\n",
    "\n",
    "!./ngram -lm sample-data/files/sample-train-unigram-smoothed.lm -ppl sample-data/test-q5.txt -debug 2\n"
   ]
  },
  {
   "cell_type": "markdown",
   "metadata": {
    "id": "k-k7U7G50fKk"
   },
   "source": [
    "\n",
    "\n",
    "*   bigram\n"
   ]
  },
  {
   "cell_type": "code",
   "execution_count": null,
   "metadata": {
    "colab": {
     "base_uri": "https://localhost:8080/",
     "height": 269
    },
    "id": "27g1-D55z9in",
    "outputId": "6ab3005a-416b-4fc9-a8fe-eacfad956057"
   },
   "outputs": [
    {
     "name": "stdout",
     "output_type": "stream",
     "text": [
      "reading 8 1-grams\n",
      "sample-data/files/sample-train-bigram-smoothed.lm: line 9: warning: non-zero probability for <unk> in closed-vocabulary LM\n",
      "reading 14 2-grams\n",
      "Sam I do like linguistics\n",
      "\tp( Sam | <s> ) \t= [2gram] 0.333333 [ -0.477121 ]\n",
      "\tp( I | Sam ...) \t= [2gram] 0.333333 [ -0.477121 ]\n",
      "\tp( do | I ...) \t= [2gram] 0.166667 [ -0.778151 ]\n",
      "\tp( like | do ...) \t= [2gram] 0.222222 [ -0.653212 ]\n",
      "\tp( <unk> | like ...) \t= [1gram] 0.0294118 [ -1.53148 ]\n",
      "\tp( </s> | <unk> ...) \t= [1gram] 0.206897 [ -0.684247 ]\n",
      "1 sentences, 5 words, 0 OOVs\n",
      "0 zeroprobs, logprob= -4.60133 ppl= 5.8464 ppl1= 8.32274\n",
      "\n",
      "file sample-data/test-q5.txt: 1 sentences, 5 words, 0 OOVs\n",
      "0 zeroprobs, logprob= -4.60133 ppl= 5.8464 ppl1= 8.32274\n"
     ]
    }
   ],
   "source": [
    "#Training a laplace smoothed bigram language model using training data\n",
    "\n",
    "!./ngram-count -text sample-data/sample-train.txt -order 2 -write sample-data/files/sample-train-bigram-smoothed.count \\\n",
    "-lm sample-data/files/sample-train-bigram-smoothed.lm -addsmooth 1 -unk\n",
    "\n",
    "#Testing the above bigram language model\n",
    "\n",
    "!./ngram -lm sample-data/files/sample-train-bigram-smoothed.lm -ppl sample-data/test-q5.txt -debug 2"
   ]
  },
  {
   "cell_type": "markdown",
   "metadata": {
    "id": "hUx3260h1LcM"
   },
   "source": [
    "#Linear Interpolation of Unigram and Bigram LM"
   ]
  },
  {
   "cell_type": "code",
   "execution_count": null,
   "metadata": {
    "colab": {
     "base_uri": "https://localhost:8080/",
     "height": 34
    },
    "id": "bFiiWJWr0Aze",
    "outputId": "9ae80c2e-6e4b-4dfd-881a-51eaccf6274e"
   },
   "outputs": [
    {
     "name": "stdout",
     "output_type": "stream",
     "text": [
      "Sam I do like linguistics"
     ]
    }
   ],
   "source": [
    "!cat sample-data/test-q5.txt"
   ]
  },
  {
   "cell_type": "code",
   "execution_count": null,
   "metadata": {
    "colab": {
     "base_uri": "https://localhost:8080/",
     "height": 302
    },
    "id": "zK-6PJ3M1Q99",
    "outputId": "4bb7f06f-e3a8-4433-d606-39d7f2f679e0"
   },
   "outputs": [
    {
     "name": "stdout",
     "output_type": "stream",
     "text": [
      "reading 8 1-grams\n",
      "sample-data/files/sample-train-bigram-smoothed.lm: line 9: warning: non-zero probability for <unk> in closed-vocabulary LM\n",
      "reading 14 2-grams\n",
      "reading 8 1-grams\n",
      "sample-data/files/sample-train-unigram-smoothed.lm: line 8: warning: non-zero probability for <unk> in closed-vocabulary LM\n",
      "Sam I do like linguistics\n",
      "\tp( Sam | <s> ) \t= [2gram] 0.270115 [ -0.568451 ]\n",
      "\tp( I | Sam ...) \t= [2gram] 0.270115 [ -0.568451 ]\n",
      "\tp( do | I ...) \t= [2gram] 0.135057 [ -0.869481 ]\n",
      "\tp( like | do ...) \t= [2gram] 0.180077 [ -0.744543 ]\n",
      "\tp( <unk> | like ...) \t= [1gram] 0.0319473 [ -1.49557 ]\n",
      "\tp( </s> | <unk> ...) \t= [1gram] 0.206897 [ -0.684247 ]\n",
      "1 sentences, 5 words, 0 OOVs\n",
      "0 zeroprobs, logprob= -4.93074 ppl= 6.63422 ppl1= 9.68608\n",
      "\n",
      "file sample-data/test-q5.txt: 1 sentences, 5 words, 0 OOVs\n",
      "0 zeroprobs, logprob= -4.93074 ppl= 6.63422 ppl1= 9.68608\n"
     ]
    }
   ],
   "source": [
    "!./ngram -lm sample-data/files/sample-train-bigram-smoothed.lm -mix-lm sample-data/files/sample-train-unigram-smoothed.lm \\\n",
    "-lambda 0.5 -ppl sample-data/test-q5.txt -debug 2"
   ]
  },
  {
   "cell_type": "markdown",
   "metadata": {
    "id": "raF3VaLEBQMw"
   },
   "source": [
    "# Brown Corpus"
   ]
  },
  {
   "cell_type": "markdown",
   "metadata": {
    "id": "iZKJHP0uFssQ"
   },
   "source": [
    "The test dataset does not contain punctuation and start of sentences do not begin with capital\n",
    "letters. Hence, I used the above unix command for removing all punctuation and the capital letters\n",
    "in the start of the sentences in the training data set – “brown-train.txt”."
   ]
  },
  {
   "cell_type": "markdown",
   "metadata": {
    "id": "b0k3m0rPNpeL"
   },
   "source": [
    "## Preprocessing"
   ]
  },
  {
   "cell_type": "code",
   "execution_count": null,
   "metadata": {
    "id": "QS79mDZJFuXl"
   },
   "outputs": [],
   "source": [
    "#preprocessing \n",
    "!cat browndata/brown-train.txt | tr '[:upper:]' '[:lower:]' | sed -e \"s/[[:punct:]]\\+//g\" > browndata/brown-train1.txt"
   ]
  },
  {
   "cell_type": "code",
   "execution_count": null,
   "metadata": {
    "id": "ed6ti8vbBLFQ"
   },
   "outputs": [],
   "source": [
    "#creating count file\n",
    "!./ngram-count -text browndata/brown-train.txt -order 2 -write brown-train.count"
   ]
  },
  {
   "cell_type": "code",
   "execution_count": null,
   "metadata": {
    "id": "tf8zgDrMMZWu"
   },
   "outputs": [],
   "source": [
    "# language modelling (without -preprocessing)\n",
    "!./ngram-count -text browndata/brown-train.txt -order 2 -write brown-train.count -unk -lm brown-train.lm -addsmooth 0"
   ]
  },
  {
   "cell_type": "code",
   "execution_count": null,
   "metadata": {
    "id": "JeYgLtSoDpAr"
   },
   "outputs": [],
   "source": [
    "# language modelling (with -preprocessing)\n",
    "!./ngram-count -text browndata/brown-train1.txt -order 2 -write brown-train.count -unk -lm brown-train-pre.lm -addsmooth 0"
   ]
  },
  {
   "cell_type": "code",
   "execution_count": null,
   "metadata": {
    "colab": {
     "base_uri": "https://localhost:8080/",
     "height": 50
    },
    "id": "9b4QDIiBDy2l",
    "outputId": "8ddce5c0-0d1e-4a80-c9d3-9f4fd1cdc6f5"
   },
   "outputs": [
    {
     "name": "stdout",
     "output_type": "stream",
     "text": [
      "file browndata/brown-test.txt: 14334 sentences, 305056 words, 18639 OOVs\n",
      "39856 zeroprobs, logprob= -990704 ppl= 6270.9 ppl1= 10425.3\n"
     ]
    }
   ],
   "source": [
    "# language modelling testing (without -preprocessing)\n",
    "!./ngram -lm brown-train.lm -ppl browndata/brown-test.txt"
   ]
  },
  {
   "cell_type": "code",
   "execution_count": null,
   "metadata": {
    "colab": {
     "base_uri": "https://localhost:8080/",
     "height": 50
    },
    "id": "Ruiw0RR4Ha5E",
    "outputId": "7f0eb78a-75b3-4bda-ef9c-bff3bdf4ace6"
   },
   "outputs": [
    {
     "name": "stdout",
     "output_type": "stream",
     "text": [
      "file browndata/brown-test.txt: 14334 sentences, 305056 words, 87046 OOVs\n",
      "26120 zeroprobs, logprob= -754354 ppl= 4549.2 ppl1= 8534.52\n"
     ]
    }
   ],
   "source": [
    "# language modelling testing (with -preprocessing)\n",
    "!./ngram -lm brown-train-pre.lm -ppl browndata/brown-test.txt"
   ]
  },
  {
   "cell_type": "markdown",
   "metadata": {
    "id": "VfUQnNJeN9hn"
   },
   "source": [
    "order 1"
   ]
  },
  {
   "cell_type": "code",
   "execution_count": null,
   "metadata": {
    "id": "R3ZXpak-NZcN"
   },
   "outputs": [],
   "source": [
    "# language modelling order 1 (with -preprocessing)\n",
    "!./ngram-count -text browndata/brown-train1.txt -order 1 -write brown-train.count -unk -lm brown-train-pre-o1.lm -addsmooth 0"
   ]
  },
  {
   "cell_type": "code",
   "execution_count": null,
   "metadata": {
    "colab": {
     "base_uri": "https://localhost:8080/",
     "height": 50
    },
    "id": "VrMxIPWfOSDe",
    "outputId": "a209a2c9-528e-4de2-b3ea-31cbd9c9daa0"
   },
   "outputs": [
    {
     "name": "stdout",
     "output_type": "stream",
     "text": [
      "file browndata/brown-test.txt: 14334 sentences, 305056 words, 87046 OOVs\n",
      "0 zeroprobs, logprob= -687741 ppl= 912.033 ppl1= 1427.67\n"
     ]
    }
   ],
   "source": [
    "# language modelling testing (with -preprocessing)\n",
    "!./ngram -lm brown-train-pre-o1.lm -ppl browndata/brown-test.txt"
   ]
  },
  {
   "cell_type": "markdown",
   "metadata": {
    "id": "xnyxeHZmOhXZ"
   },
   "source": [
    "order 2"
   ]
  },
  {
   "cell_type": "code",
   "execution_count": null,
   "metadata": {
    "id": "VX5oMJ1mOf1q"
   },
   "outputs": [],
   "source": [
    "# language modelling order 2 (with -preprocessing)\n",
    "!./ngram-count -text browndata/brown-train1.txt -order 2 -write brown-train.count -unk -lm brown-train-pre-o2.lm -addsmooth 0"
   ]
  },
  {
   "cell_type": "code",
   "execution_count": null,
   "metadata": {
    "colab": {
     "base_uri": "https://localhost:8080/",
     "height": 50
    },
    "id": "oRUBW5j1OWW4",
    "outputId": "22c106e2-8306-4153-faff-cb983a87db5e"
   },
   "outputs": [
    {
     "name": "stdout",
     "output_type": "stream",
     "text": [
      "file browndata/brown-test.txt: 14334 sentences, 305056 words, 87046 OOVs\n",
      "26120 zeroprobs, logprob= -754354 ppl= 4549.2 ppl1= 8534.52\n"
     ]
    }
   ],
   "source": [
    "# language modelling testing (with -preprocessing)\n",
    "!./ngram -lm brown-train-pre-o2.lm -ppl browndata/brown-test.txt"
   ]
  },
  {
   "cell_type": "markdown",
   "metadata": {
    "id": "r2osH_9SOoGn"
   },
   "source": [
    "order 3"
   ]
  },
  {
   "cell_type": "code",
   "execution_count": null,
   "metadata": {
    "id": "0Yp6KNrPOm0i"
   },
   "outputs": [],
   "source": [
    "# language modelling order 3 (with -preprocessing)\n",
    "#!./ngram-count -text browndata/brown-train1.txt -order 3 -write brown-train.count -unk -lm brown-train-pre-o3.lm -addsmooth 0"
   ]
  },
  {
   "cell_type": "code",
   "execution_count": null,
   "metadata": {
    "colab": {
     "base_uri": "https://localhost:8080/",
     "height": 50
    },
    "id": "MAKD5befOsBU",
    "outputId": "3b3b42e3-6826-4ce7-a90b-389bc9c39073"
   },
   "outputs": [
    {
     "name": "stdout",
     "output_type": "stream",
     "text": [
      "file browndata/brown-test.txt: 14334 sentences, 305056 words, 87046 OOVs\n",
      "26120 zeroprobs, logprob= -752526 ppl= 4457.31 ppl1= 8349.39\n"
     ]
    }
   ],
   "source": [
    "# language modelling testing (with -preprocessing)\n",
    "!./ngram -lm brown-train-pre-o3.lm -ppl browndata/brown-test.txt"
   ]
  },
  {
   "cell_type": "markdown",
   "metadata": {
    "id": "phcwLLyuOsQw"
   },
   "source": [
    "order 4"
   ]
  },
  {
   "cell_type": "code",
   "execution_count": null,
   "metadata": {
    "id": "Gzf4OAR1OsbR"
   },
   "outputs": [],
   "source": [
    "# language modelling order 4 (with -preprocessing)\n",
    "#!./ngram-count -text browndata/brown-train1.txt -order 4 -write brown-train.count -unk -lm brown-train-pre-o4.lm -addsmooth 0"
   ]
  },
  {
   "cell_type": "code",
   "execution_count": null,
   "metadata": {
    "colab": {
     "base_uri": "https://localhost:8080/",
     "height": 50
    },
    "id": "jZMCsrWXOsin",
    "outputId": "157ae62e-9e9d-46c9-f358-a475443e9848"
   },
   "outputs": [
    {
     "name": "stdout",
     "output_type": "stream",
     "text": [
      "file browndata/brown-test.txt: 14334 sentences, 305056 words, 87046 OOVs\n",
      "26120 zeroprobs, logprob= -752526 ppl= 4457.31 ppl1= 8349.39\n"
     ]
    }
   ],
   "source": [
    "# language modelling testing (with -preprocessing)\n",
    "!./ngram -lm brown-train-pre-o4.lm -ppl browndata/brown-test.txt"
   ]
  },
  {
   "cell_type": "markdown",
   "metadata": {
    "id": "ejgkZFPaOst8"
   },
   "source": [
    "order 5"
   ]
  },
  {
   "cell_type": "code",
   "execution_count": null,
   "metadata": {
    "id": "UesO_qc7Os64"
   },
   "outputs": [],
   "source": [
    "# language modelling order 5 (with -preprocessing)\n",
    "#!./ngram-count -text browndata/brown-train1.txt -order 5 -write brown-train.count -unk -lm brown-train-pre-o5.lm -addsmooth 0"
   ]
  },
  {
   "cell_type": "code",
   "execution_count": null,
   "metadata": {
    "colab": {
     "base_uri": "https://localhost:8080/",
     "height": 50
    },
    "id": "Am2d_cuTOtAg",
    "outputId": "c244089d-ccee-45c6-e106-a03bae8f0ddf"
   },
   "outputs": [
    {
     "name": "stdout",
     "output_type": "stream",
     "text": [
      "file browndata/brown-test.txt: 14334 sentences, 305056 words, 87046 OOVs\n",
      "26120 zeroprobs, logprob= -752526 ppl= 4457.31 ppl1= 8349.39\n"
     ]
    }
   ],
   "source": [
    "# language modelling testing (with -preprocessing)\n",
    "!./ngram -lm brown-train-pre-o5.lm -ppl browndata/brown-test.txt"
   ]
  },
  {
   "cell_type": "markdown",
   "metadata": {
    "id": "sdO-2i4lOtIr"
   },
   "source": [
    "we have\n",
    "\n",
    "\n",
    "1.   brown training set\n",
    "2.   brown testing set\n",
    "3.   brown devlopment set\n",
    "\n",
    "\n",
    " Find out best lamba  [0,1] (also known as interpolation weight) and -addsmoothparameters  for  which  you  get  less  perplexity  on  your development  set.This process is also known as hyperparameter tuning.\n",
    "\n"
   ]
  },
  {
   "cell_type": "code",
   "execution_count": null,
   "metadata": {
    "colab": {
     "base_uri": "https://localhost:8080/",
     "height": 50
    },
    "id": "nTT3kY5NTyD_",
    "outputId": "d39dba3b-411c-4db5-f394-a2e52a1b9ddd"
   },
   "outputs": [
    {
     "name": "stdout",
     "output_type": "stream",
     "text": [
      "file browndata/brown-dev.txt: 5734 sentences, 126831 words, 31813 OOVs\n",
      "0 zeroprobs, logprob= -287469 ppl= 713.237 ppl1= 1060.27\n"
     ]
    }
   ],
   "source": [
    "#lambda = 0.1\n",
    "\n",
    "!./ngram -lm /content/brown-train-pre-o2.lm -mix-lm /content/brown-train-pre-o1.lm \\\n",
    "-lambda 0.1 -ppl browndata/brown-dev.txt"
   ]
  },
  {
   "cell_type": "code",
   "execution_count": null,
   "metadata": {
    "colab": {
     "base_uri": "https://localhost:8080/",
     "height": 50
    },
    "id": "yWEPsWi0VeBA",
    "outputId": "a58dd168-b42c-4fd9-f08c-a1ac2a666cc8"
   },
   "outputs": [
    {
     "name": "stdout",
     "output_type": "stream",
     "text": [
      "file browndata/brown-dev.txt: 5734 sentences, 126831 words, 31813 OOVs\n",
      "0 zeroprobs, logprob= -282810 ppl= 641.194 ppl1= 947.068\n"
     ]
    }
   ],
   "source": [
    "#lambda = 0.2\n",
    "\n",
    "!./ngram -lm /content/brown-train-pre-o2.lm -mix-lm /content/brown-train-pre-o1.lm \\\n",
    "-lambda 0.2 -ppl browndata/brown-dev.txt"
   ]
  },
  {
   "cell_type": "code",
   "execution_count": null,
   "metadata": {
    "colab": {
     "base_uri": "https://localhost:8080/",
     "height": 50
    },
    "id": "vO6GnpatWaFr",
    "outputId": "795f2c06-3c72-4dd4-eadc-32201b492ac5"
   },
   "outputs": [
    {
     "name": "stdout",
     "output_type": "stream",
     "text": [
      "file browndata/brown-dev.txt: 5734 sentences, 126831 words, 31813 OOVs\n",
      "0 zeroprobs, logprob= -280085 ppl= 602.486 ppl1= 886.558\n"
     ]
    }
   ],
   "source": [
    "#lambda = 0.3\n",
    "\n",
    "!./ngram -lm /content/brown-train-pre-o2.lm -mix-lm /content/brown-train-pre-o1.lm \\\n",
    "-lambda 0.3 -ppl browndata/brown-dev.txt"
   ]
  },
  {
   "cell_type": "code",
   "execution_count": null,
   "metadata": {
    "colab": {
     "base_uri": "https://localhost:8080/",
     "height": 50
    },
    "id": "tar4KgIeKoNy",
    "outputId": "121f3a4d-615e-4647-bd9d-2ddd0c06a4e1"
   },
   "outputs": [
    {
     "name": "stdout",
     "output_type": "stream",
     "text": [
      "file browndata/brown-dev.txt: 5734 sentences, 126831 words, 31813 OOVs\n",
      "0 zeroprobs, logprob= -278522 ppl= 581.34 ppl1= 853.599\n"
     ]
    }
   ],
   "source": [
    "#lambda = 0.4\n",
    "\n",
    "!./ngram -lm /content/brown-train-pre-o2.lm -mix-lm /content/brown-train-pre-o1.lm \\\n",
    "-lambda 0.4 -ppl browndata/brown-dev.txt"
   ]
  },
  {
   "cell_type": "code",
   "execution_count": null,
   "metadata": {
    "colab": {
     "base_uri": "https://localhost:8080/",
     "height": 50
    },
    "id": "rvcFz91BWaL2",
    "outputId": "50ab605c-a969-4e61-d51e-27f4150cb1d7"
   },
   "outputs": [
    {
     "name": "stdout",
     "output_type": "stream",
     "text": [
      "file browndata/brown-dev.txt: 5734 sentences, 126831 words, 31813 OOVs\n",
      "0 zeroprobs, logprob= -277872 ppl= 572.765 ppl1= 840.255\n"
     ]
    }
   ],
   "source": [
    "#lambda = 0.5\n",
    "\n",
    "!./ngram -lm /content/brown-train-pre-o2.lm -mix-lm /content/brown-train-pre-o1.lm \\\n",
    "-lambda 0.5 -ppl browndata/brown-dev.txt"
   ]
  },
  {
   "cell_type": "code",
   "execution_count": null,
   "metadata": {
    "colab": {
     "base_uri": "https://localhost:8080/",
     "height": 50
    },
    "id": "jPGIj1pWWaUt",
    "outputId": "09a512a8-792d-4d82-e72c-bbceffefd5b7"
   },
   "outputs": [
    {
     "name": "stdout",
     "output_type": "stream",
     "text": [
      "file browndata/brown-dev.txt: 5734 sentences, 126831 words, 31813 OOVs\n",
      "0 zeroprobs, logprob= -278108 ppl= 575.865 ppl1= 845.077\n"
     ]
    }
   ],
   "source": [
    "#lambda = 0.6\n",
    "\n",
    "!./ngram -lm /content/brown-train-pre-o2.lm -mix-lm /content/brown-train-pre-o1.lm \\\n",
    "-lambda 0.6 -ppl browndata/brown-dev.txt"
   ]
  },
  {
   "cell_type": "code",
   "execution_count": null,
   "metadata": {
    "colab": {
     "base_uri": "https://localhost:8080/",
     "height": 50
    },
    "id": "kFgdQn9UWael",
    "outputId": "40c32bf9-a6c4-4671-ee07-e2b582aac381"
   },
   "outputs": [
    {
     "name": "stdout",
     "output_type": "stream",
     "text": [
      "file browndata/brown-dev.txt: 5734 sentences, 126831 words, 31813 OOVs\n",
      "0 zeroprobs, logprob= -279404 ppl= 593.174 ppl1= 872.035\n"
     ]
    }
   ],
   "source": [
    "#lambda = 0.7\n",
    "\n",
    "!./ngram -lm /content/brown-train-pre-o2.lm -mix-lm /content/brown-train-pre-o1.lm \\\n",
    "-lambda 0.7 -ppl browndata/brown-dev.txt"
   ]
  },
  {
   "cell_type": "code",
   "execution_count": null,
   "metadata": {
    "colab": {
     "base_uri": "https://localhost:8080/",
     "height": 50
    },
    "id": "NxH7-SoAWalE",
    "outputId": "b05cfc0a-8fd3-403f-bd33-202ca112c543"
   },
   "outputs": [
    {
     "name": "stdout",
     "output_type": "stream",
     "text": [
      "file browndata/brown-dev.txt: 5734 sentences, 126831 words, 31813 OOVs\n",
      "0 zeroprobs, logprob= -282313 ppl= 633.951 ppl1= 935.729\n"
     ]
    }
   ],
   "source": [
    "#lambda = 0.8\n",
    "\n",
    "!./ngram -lm /content/brown-train-pre-o2.lm -mix-lm /content/brown-train-pre-o1.lm \\\n",
    "-lambda 0.8 -ppl browndata/brown-dev.txt"
   ]
  },
  {
   "cell_type": "code",
   "execution_count": null,
   "metadata": {
    "colab": {
     "base_uri": "https://localhost:8080/",
     "height": 50
    },
    "id": "Az6KJ_gdWapW",
    "outputId": "eafb3609-d411-4d1e-ed40-277f76c97b75"
   },
   "outputs": [
    {
     "name": "stdout",
     "output_type": "stream",
     "text": [
      "file browndata/brown-dev.txt: 5734 sentences, 126831 words, 31813 OOVs\n",
      "0 zeroprobs, logprob= -288764 ppl= 734.667 ppl1= 1094.08\n"
     ]
    }
   ],
   "source": [
    "#lambda = 0.9\n",
    "\n",
    "!./ngram -lm /content/brown-train-pre-o2.lm -mix-lm /content/brown-train-pre-o1.lm \\\n",
    "-lambda 0.9 -ppl browndata/brown-dev.txt"
   ]
  },
  {
   "cell_type": "markdown",
   "metadata": {
    "id": "4mwMfox6XBMd"
   },
   "source": [
    "# lambda = 0.5 has minimum perplexity \n",
    "\n",
    "now varying smoothing parameters "
   ]
  },
  {
   "cell_type": "code",
   "execution_count": null,
   "metadata": {
    "colab": {
     "base_uri": "https://localhost:8080/",
     "height": 84
    },
    "id": "xqKdDuXkWazc",
    "outputId": "9515cc1b-a81b-460f-c422-7c4e822e4052"
   },
   "outputs": [
    {
     "name": "stdout",
     "output_type": "stream",
     "text": [
      "/content/brown-train-pre-o2.lm: line 939: warning: non-zero probability for <unk> in closed-vocabulary LM\n",
      "/content/brown-train-pre-o1.lm: line 938: warning: non-zero probability for <unk> in closed-vocabulary LM\n",
      "file browndata/brown-dev.txt: 5734 sentences, 126831 words, 0 OOVs\n",
      "0 zeroprobs, logprob= -470970 ppl= 3570.67 ppl1= 5168.55\n"
     ]
    }
   ],
   "source": [
    "#addsmooth 1\n",
    "\n",
    "#Training bigram model on the train set\n",
    "!./ngram-count -text browndata/brown-train1.txt -order 1 -write brown-train.count -unk -lm brown-train-pre-o1.lm -addsmooth 1\n",
    "\n",
    "!./ngram-count -text browndata/brown-train1.txt -order 2 -write brown-train.count -unk -lm brown-train-pre-o2.lm -addsmooth 1\n",
    "\n",
    "#Testing on dev set\n",
    "!./ngram -lm /content/brown-train-pre-o2.lm -mix-lm /content/brown-train-pre-o1.lm \\\n",
    "-lambda 0.5 -ppl browndata/brown-dev.txt "
   ]
  },
  {
   "cell_type": "code",
   "execution_count": null,
   "metadata": {
    "colab": {
     "base_uri": "https://localhost:8080/",
     "height": 84
    },
    "id": "39M-KFtNWa95",
    "outputId": "abce0635-9242-43bf-8ecb-701ae60e512a"
   },
   "outputs": [
    {
     "name": "stdout",
     "output_type": "stream",
     "text": [
      "/content/brown-train-pre-o2.lm: line 939: warning: non-zero probability for <unk> in closed-vocabulary LM\n",
      "/content/brown-train-pre-o1.lm: line 938: warning: non-zero probability for <unk> in closed-vocabulary LM\n",
      "file browndata/brown-dev.txt: 5734 sentences, 126831 words, 0 OOVs\n",
      "0 zeroprobs, logprob= -474921 ppl= 3824.31 ppl1= 5552.89\n"
     ]
    }
   ],
   "source": [
    "#addsmooth 2\n",
    "\n",
    "#Training bigram model on the train set\n",
    "!./ngram-count -text browndata/brown-train1.txt -order 1 -write brown-train.count -unk -lm brown-train-pre-o1.lm -addsmooth 2\n",
    "\n",
    "!./ngram-count -text browndata/brown-train1.txt -order 2 -write brown-train.count -unk -lm brown-train-pre-o2.lm -addsmooth 2\n",
    "\n",
    "#Testing on dev set\n",
    "!./ngram -lm /content/brown-train-pre-o2.lm -mix-lm /content/brown-train-pre-o1.lm \\\n",
    "-lambda 0.5 -ppl browndata/brown-dev.txt "
   ]
  },
  {
   "cell_type": "code",
   "execution_count": null,
   "metadata": {
    "colab": {
     "base_uri": "https://localhost:8080/",
     "height": 84
    },
    "id": "FGj8qtQwWbI0",
    "outputId": "dd9fcc64-eba7-418c-a925-cda5eca6880f"
   },
   "outputs": [
    {
     "name": "stdout",
     "output_type": "stream",
     "text": [
      "/content/brown-train-pre-o2.lm: line 939: warning: non-zero probability for <unk> in closed-vocabulary LM\n",
      "/content/brown-train-pre-o1.lm: line 938: warning: non-zero probability for <unk> in closed-vocabulary LM\n",
      "file browndata/brown-dev.txt: 5734 sentences, 126831 words, 0 OOVs\n",
      "0 zeroprobs, logprob= -478061 ppl= 4038.69 ppl1= 5878.65\n"
     ]
    }
   ],
   "source": [
    "#addsmooth 3\n",
    "\n",
    "#Training bigram model on the train set\n",
    "!./ngram-count -text browndata/brown-train1.txt -order 1 -write brown-train.count -unk -lm brown-train-pre-o1.lm -addsmooth 3\n",
    "\n",
    "!./ngram-count -text browndata/brown-train1.txt -order 2 -write brown-train.count -unk -lm brown-train-pre-o2.lm -addsmooth 3\n",
    "\n",
    "#Testing on dev set\n",
    "!./ngram -lm /content/brown-train-pre-o2.lm -mix-lm /content/brown-train-pre-o1.lm \\\n",
    "-lambda 0.5 -ppl browndata/brown-dev.txt "
   ]
  },
  {
   "cell_type": "code",
   "execution_count": null,
   "metadata": {
    "colab": {
     "base_uri": "https://localhost:8080/",
     "height": 84
    },
    "id": "jKsKO7qgZsyV",
    "outputId": "5e0ab046-81e9-4e78-84bf-1db41bd73862"
   },
   "outputs": [
    {
     "name": "stdout",
     "output_type": "stream",
     "text": [
      "/content/brown-train-pre-o2.lm: line 939: warning: non-zero probability for <unk> in closed-vocabulary LM\n",
      "/content/brown-train-pre-o1.lm: line 938: warning: non-zero probability for <unk> in closed-vocabulary LM\n",
      "file browndata/brown-dev.txt: 5734 sentences, 126831 words, 0 OOVs\n",
      "0 zeroprobs, logprob= -476570 ppl= 3935.42 ppl1= 5721.63\n"
     ]
    }
   ],
   "source": [
    "#addsmooth 4\n",
    "\n",
    "#Training bigram model on the train set\n",
    "!./ngram-count -text browndata/brown-train1.txt -order 1 -write brown-train.count -unk -lm brown-train-pre-o1.lm -addsmooth 4\n",
    "\n",
    "!./ngram-count -text browndata/brown-train1.txt -order 2 -write brown-train.count -unk -lm brown-train-pre-o2.lm -addsmooth 4\n",
    "\n",
    "#Testing on dev set\n",
    "!./ngram -lm /content/brown-train-pre-o2.lm -mix-lm /content/brown-train-pre-o1.lm \\\n",
    "-lambda 0.5 -ppl browndata/brown-dev.txt "
   ]
  },
  {
   "cell_type": "code",
   "execution_count": null,
   "metadata": {
    "colab": {
     "base_uri": "https://localhost:8080/",
     "height": 84
    },
    "id": "1kqt9msJZs3w",
    "outputId": "31016fb8-4f91-4142-9ee1-350795ac9538"
   },
   "outputs": [
    {
     "name": "stdout",
     "output_type": "stream",
     "text": [
      "/content/brown-train-pre-o2.lm: line 939: warning: non-zero probability for <unk> in closed-vocabulary LM\n",
      "/content/brown-train-pre-o1.lm: line 938: warning: non-zero probability for <unk> in closed-vocabulary LM\n",
      "file browndata/brown-dev.txt: 5734 sentences, 126831 words, 0 OOVs\n",
      "0 zeroprobs, logprob= -475846 ppl= 3886.21 ppl1= 5646.87\n"
     ]
    }
   ],
   "source": [
    "#addsmooth 5\n",
    "\n",
    "#Training bigram model on the train set\n",
    "!./ngram-count -text browndata/brown-train1.txt -order 1 -write brown-train.count -unk -lm brown-train-pre-o1.lm -addsmooth 5\n",
    "\n",
    "!./ngram-count -text browndata/brown-train1.txt -order 2 -write brown-train.count -unk -lm brown-train-pre-o2.lm -addsmooth 5\n",
    "\n",
    "#Testing on dev set\n",
    "!./ngram -lm /content/brown-train-pre-o2.lm -mix-lm /content/brown-train-pre-o1.lm \\\n",
    "-lambda 0.5 -ppl browndata/brown-dev.txt "
   ]
  },
  {
   "cell_type": "markdown",
   "metadata": {
    "id": "4Z1Wi4UBaEIx"
   },
   "source": [
    "# optimal parameter is addsmooth 1 and lambda = 0.5"
   ]
  },
  {
   "cell_type": "code",
   "execution_count": null,
   "metadata": {
    "colab": {
     "base_uri": "https://localhost:8080/",
     "height": 84
    },
    "id": "v7e5cB4RZ0HW",
    "outputId": "d320ead5-b326-4060-f803-c26643b2996e"
   },
   "outputs": [
    {
     "name": "stdout",
     "output_type": "stream",
     "text": [
      "/content/brown-train-pre-o2.lm: line 939: warning: non-zero probability for <unk> in closed-vocabulary LM\n",
      "/content/brown-train-pre-o1.lm: line 938: warning: non-zero probability for <unk> in closed-vocabulary LM\n",
      "file browndata/brown-dev.txt: 5734 sentences, 126831 words, 0 OOVs\n",
      "0 zeroprobs, logprob= -470970 ppl= 3570.67 ppl1= 5168.55\n"
     ]
    }
   ],
   "source": [
    "#Training bigram model on the train set\n",
    "!./ngram-count -text browndata/brown-train1.txt -order 1 -write brown-train.count -unk -lm brown-train-pre-o1.lm -addsmooth 1\n",
    "\n",
    "!./ngram-count -text browndata/brown-train1.txt -order 2 -write brown-train.count -unk -lm brown-train-pre-o2.lm -addsmooth 1\n",
    "\n",
    "#Testing on dev set\n",
    "!./ngram -lm /content/brown-train-pre-o2.lm -mix-lm /content/brown-train-pre-o1.lm \\\n",
    "-lambda 0.5 -ppl browndata/brown-dev.txt "
   ]
  },
  {
   "cell_type": "code",
   "execution_count": null,
   "metadata": {
    "colab": {
     "base_uri": "https://localhost:8080/",
     "height": 84
    },
    "id": "NwV0B7ZAaqr5",
    "outputId": "9c43fbcf-fb92-4a13-afdc-a04666b0fd19"
   },
   "outputs": [
    {
     "name": "stdout",
     "output_type": "stream",
     "text": [
      "/content/brown-train-pre-o2.lm: line 939: warning: non-zero probability for <unk> in closed-vocabulary LM\n",
      "/content/brown-train-pre-o1.lm: line 938: warning: non-zero probability for <unk> in closed-vocabulary LM\n",
      "file browndata/brown-test.txt: 14334 sentences, 305056 words, 0 OOVs\n",
      "0 zeroprobs, logprob= -1.15701e+06 ppl= 4193.46 ppl1= 6205.69\n"
     ]
    }
   ],
   "source": [
    "#Testing on test set\n",
    "!./ngram -lm /content/brown-train-pre-o2.lm -mix-lm /content/brown-train-pre-o1.lm \\\n",
    "-lambda 0.5 -ppl browndata/brown-test.txt "
   ]
  },
  {
   "cell_type": "markdown",
   "metadata": {
    "id": "1dmokCQEN6BL"
   },
   "source": [
    "# Good tunning smoothing"
   ]
  },
  {
   "cell_type": "code",
   "execution_count": null,
   "metadata": {
    "colab": {
     "base_uri": "https://localhost:8080/",
     "height": 118
    },
    "id": "iWAa1_kFeCPW",
    "outputId": "4b706068-b659-4163-e4ea-f4df48c25e5a"
   },
   "outputs": [
    {
     "name": "stdout",
     "output_type": "stream",
     "text": [
      "warning: discount coeff 1 is out of range: 0\n",
      "warning: discount coeff 1 is out of range: 0\n",
      "/content/brown-train-pre-o2.lm: line 939: warning: non-zero probability for <unk> in closed-vocabulary LM\n",
      "/content/brown-train-pre-o1.lm: line 938: warning: non-zero probability for <unk> in closed-vocabulary LM\n",
      "file browndata/brown-dev.txt: 5734 sentences, 126831 words, 0 OOVs\n",
      "0 zeroprobs, logprob= -450373 ppl= 2496.74 ppl1= 3556.04\n"
     ]
    }
   ],
   "source": [
    "#Training bigram model on the train set\n",
    "!./ngram-count -text browndata/brown-train1.txt -order 1 -write brown-train.count -unk -lm brown-train-pre-o1.lm\n",
    "\n",
    "!./ngram-count -text browndata/brown-train1.txt -order 2 -write brown-train.count -unk -lm brown-train-pre-o2.lm\n",
    "\n",
    "#Testing on dev set\n",
    "!./ngram -lm /content/brown-train-pre-o2.lm -mix-lm /content/brown-train-pre-o1.lm \\\n",
    "-lambda 0.5 -ppl browndata/brown-dev.txt "
   ]
  },
  {
   "cell_type": "code",
   "execution_count": null,
   "metadata": {
    "colab": {
     "base_uri": "https://localhost:8080/",
     "height": 84
    },
    "id": "78H1LNFLOIl7",
    "outputId": "a0f66dce-6e13-4e2f-c4dd-b437be8ac0f3"
   },
   "outputs": [
    {
     "name": "stdout",
     "output_type": "stream",
     "text": [
      "/content/brown-train-pre-o2.lm: line 939: warning: non-zero probability for <unk> in closed-vocabulary LM\n",
      "/content/brown-train-pre-o1.lm: line 938: warning: non-zero probability for <unk> in closed-vocabulary LM\n",
      "file browndata/brown-test.txt: 14334 sentences, 305056 words, 0 OOVs\n",
      "0 zeroprobs, logprob= -1.11175e+06 ppl= 3025.88 ppl1= 4409.71\n"
     ]
    }
   ],
   "source": [
    "#Testing on test set\n",
    "!./ngram -lm /content/brown-train-pre-o2.lm -mix-lm /content/brown-train-pre-o1.lm \\\n",
    "-lambda 0.5 -ppl browndata/brown-test.txt "
   ]
  },
  {
   "cell_type": "markdown",
   "metadata": {
    "id": "cEA_-7dGbshT"
   },
   "source": [
    "# Kneser-Ney smoothing."
   ]
  },
  {
   "cell_type": "code",
   "execution_count": 224,
   "metadata": {
    "colab": {
     "base_uri": "https://localhost:8080/",
     "height": 118
    },
    "id": "BJLpkjwtOJgE",
    "outputId": "11e7faaf-0195-4229-8115-43e707ceb355"
   },
   "outputs": [
    {
     "name": "stdout",
     "output_type": "stream",
     "text": [
      "warning: discount coeff 1 is out of range: 0\n",
      "warning: discount coeff 1 is out of range: 0\n",
      "/content/brown-train-pre-o2.lm: line 939: warning: non-zero probability for <unk> in closed-vocabulary LM\n",
      "/content/brown-train-pre-o1.lm: line 938: warning: non-zero probability for <unk> in closed-vocabulary LM\n",
      "file browndata/brown-dev.txt: 5734 sentences, 126831 words, 0 OOVs\n",
      "0 zeroprobs, logprob= -450373 ppl= 2496.74 ppl1= 3556.04\n"
     ]
    }
   ],
   "source": [
    "#Training bigram model on the train set\n",
    "!./ngram-count -text browndata/brown-train1.txt -order 1 -write brown-train.count -unk -lm brown-train-pre-o1.lm kn-counts-modified\n",
    "\n",
    "!./ngram-count -text browndata/brown-train1.txt -order 2 -write brown-train.count -unk -lm brown-train-pre-o2.lm kn-counts-modified\n",
    "\n",
    "#Testing on dev set\n",
    "!./ngram -lm /content/brown-train-pre-o2.lm -mix-lm /content/brown-train-pre-o1.lm \\\n",
    "-lambda 0.5 -ppl browndata/brown-dev.txt "
   ]
  },
  {
   "cell_type": "code",
   "execution_count": 225,
   "metadata": {
    "colab": {
     "base_uri": "https://localhost:8080/",
     "height": 84
    },
    "id": "kBwIYD3QcDvk",
    "outputId": "c55f2afd-e012-4f94-8d40-fd0e7b4f763f"
   },
   "outputs": [
    {
     "name": "stdout",
     "output_type": "stream",
     "text": [
      "/content/brown-train-pre-o2.lm: line 939: warning: non-zero probability for <unk> in closed-vocabulary LM\n",
      "/content/brown-train-pre-o1.lm: line 938: warning: non-zero probability for <unk> in closed-vocabulary LM\n",
      "file browndata/brown-test.txt: 14334 sentences, 305056 words, 0 OOVs\n",
      "0 zeroprobs, logprob= -1.11175e+06 ppl= 3025.88 ppl1= 4409.71\n"
     ]
    }
   ],
   "source": [
    "#Testing on test set\n",
    "!./ngram -lm /content/brown-train-pre-o2.lm -mix-lm /content/brown-train-pre-o1.lm \\\n",
    "-lambda 0.5 -ppl browndata/brown-test.txt "
   ]
  },
  {
   "cell_type": "code",
   "execution_count": null,
   "metadata": {
    "id": "jCy349mfcLFy"
   },
   "outputs": [],
   "source": []
  }
 ],
 "metadata": {
  "colab": {
   "collapsed_sections": [],
   "name": "Aman kumar SRILM ipynb",
   "provenance": []
  },
  "kernelspec": {
   "display_name": "Python 3",
   "language": "python",
   "name": "python3"
  },
  "language_info": {
   "codemirror_mode": {
    "name": "ipython",
    "version": 3
   },
   "file_extension": ".py",
   "mimetype": "text/x-python",
   "name": "python",
   "nbconvert_exporter": "python",
   "pygments_lexer": "ipython3",
   "version": "3.7.6"
  }
 },
 "nbformat": 4,
 "nbformat_minor": 1
}
